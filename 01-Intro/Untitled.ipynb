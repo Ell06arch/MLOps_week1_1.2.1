{
 "cells": [
  {
   "cell_type": "code",
   "execution_count": 3,
   "id": "20abdab0",
   "metadata": {},
   "outputs": [],
   "source": [
    "import pandas as pd\n",
    " "
   ]
  },
  {
   "cell_type": "code",
   "execution_count": 3,
   "id": "34a44f77",
   "metadata": {},
   "outputs": [
    {
     "name": "stdout",
     "output_type": "stream",
     "text": [
      "Collecting pyarrow\n",
      "  Downloading pyarrow-19.0.0-cp39-cp39-manylinux_2_28_x86_64.whl (42.1 MB)\n",
      "\u001b[K     |████████████████████████████████| 42.1 MB 33.7 MB/s eta 0:00:01\n",
      "\u001b[?25hInstalling collected packages: pyarrow\n",
      "Successfully installed pyarrow-19.0.0\n"
     ]
    }
   ],
   "source": [
    "!pip install pyarrow"
   ]
  },
  {
   "cell_type": "code",
   "execution_count": 4,
   "id": "3957a806",
   "metadata": {},
   "outputs": [
    {
     "name": "stdout",
     "output_type": "stream",
     "text": [
      "<class 'pandas.core.frame.DataFrame'>\n",
      "RangeIndex: 2964624 entries, 0 to 2964623\n",
      "Data columns (total 19 columns):\n",
      " #   Column                 Dtype         \n",
      "---  ------                 -----         \n",
      " 0   VendorID               int32         \n",
      " 1   tpep_pickup_datetime   datetime64[ns]\n",
      " 2   tpep_dropoff_datetime  datetime64[ns]\n",
      " 3   passenger_count        float64       \n",
      " 4   trip_distance          float64       \n",
      " 5   RatecodeID             float64       \n",
      " 6   store_and_fwd_flag     object        \n",
      " 7   PULocationID           int32         \n",
      " 8   DOLocationID           int32         \n",
      " 9   payment_type           int64         \n",
      " 10  fare_amount            float64       \n",
      " 11  extra                  float64       \n",
      " 12  mta_tax                float64       \n",
      " 13  tip_amount             float64       \n",
      " 14  tolls_amount           float64       \n",
      " 15  improvement_surcharge  float64       \n",
      " 16  total_amount           float64       \n",
      " 17  congestion_surcharge   float64       \n",
      " 18  Airport_fee            float64       \n",
      "dtypes: datetime64[ns](2), float64(12), int32(3), int64(1), object(1)\n",
      "memory usage: 395.8+ MB\n"
     ]
    },
    {
     "data": {
      "text/plain": [
       "None"
      ]
     },
     "metadata": {},
     "output_type": "display_data"
    },
    {
     "name": "stdout",
     "output_type": "stream",
     "text": [
      "0    19.800000\n",
      "1     6.600000\n",
      "2    17.916667\n",
      "3     8.300000\n",
      "4     6.100000\n",
      "Name: duration, dtype: float64\n",
      "Standard Deviation: 34.85 minutes\n"
     ]
    }
   ],
   "source": [
    "jan_df = pd.read_parquet('https://d37ci6vzurychx.cloudfront.net/trip-data/yellow_tripdata_2024-01.parquet')\n",
    "jan_df.head()\n",
    "display(jan_df.info())\n",
    "\n",
    "# Creating a duration column in minutes\n",
    "jan_df[\"duration\"] = (jan_df[\"tpep_dropoff_datetime\"] - jan_df[\"tpep_pickup_datetime\"]).dt.total_seconds() / 60\n",
    "\n",
    "# Checking the column\n",
    "print(jan_df[\"duration\"].head())\n",
    "\n",
    "# Calculating standard deviaton\n",
    "std_duration = jan_df[\"duration\"].std()\n",
    "\n",
    "print(f\"Standard Deviation: {std_duration:.2f} minutes\")\n"
   ]
  },
  {
   "cell_type": "code",
   "execution_count": 5,
   "id": "f08bab44",
   "metadata": {},
   "outputs": [
    {
     "name": "stdout",
     "output_type": "stream",
     "text": [
      "Fraction of records left: 97.78%\n"
     ]
    }
   ],
   "source": [
    "# Removing outliers: Keeping only trips with duration between 1 and 60 minutes\n",
    "filtered_jan_df = jan_df[(jan_df[\"duration\"] >= 1) & (jan_df[\"duration\"] <= 60)]\n",
    "\n",
    "# Calculating the fraction of records left\n",
    "fraction_left = len(filtered_jan_df) / len(jan_df)\n",
    "print(f\"Fraction of records left: {fraction_left:.2%}\")"
   ]
  },
  {
   "cell_type": "code",
   "execution_count": 8,
   "id": "19a6bcb9",
   "metadata": {},
   "outputs": [
    {
     "name": "stderr",
     "output_type": "stream",
     "text": [
      "/tmp/ipykernel_51870/620686871.py:4: SettingWithCopyWarning: \n",
      "A value is trying to be set on a copy of a slice from a DataFrame.\n",
      "Try using .loc[row_indexer,col_indexer] = value instead\n",
      "\n",
      "See the caveats in the documentation: https://pandas.pydata.org/pandas-docs/stable/user_guide/indexing.html#returning-a-view-versus-a-copy\n",
      "  filtered_jan_df.loc[:, \"PULocationID\"] = filtered_jan_df[\"PULocationID\"].astype(str)\n",
      "/tmp/ipykernel_51870/620686871.py:5: SettingWithCopyWarning: \n",
      "A value is trying to be set on a copy of a slice from a DataFrame.\n",
      "Try using .loc[row_indexer,col_indexer] = value instead\n",
      "\n",
      "See the caveats in the documentation: https://pandas.pydata.org/pandas-docs/stable/user_guide/indexing.html#returning-a-view-versus-a-copy\n",
      "  filtered_jan_df.loc[:, \"DOLocationID\"] = filtered_jan_df[\"DOLocationID\"].astype(str)\n"
     ]
    },
    {
     "name": "stdout",
     "output_type": "stream",
     "text": [
      "Number of columns: 518\n"
     ]
    }
   ],
   "source": [
    "from sklearn.feature_extraction import DictVectorizer\n",
    "\n",
    "# Converting pickup and dropoff location IDs to string\n",
    "filtered_jan_df.loc[:, \"PULocationID\"] = filtered_jan_df[\"PULocationID\"].astype(str)\n",
    "filtered_jan_df.loc[:, \"DOLocationID\"] = filtered_jan_df[\"DOLocationID\"].astype(str)\n",
    "\n",
    "# Creating a list of dictionaries\n",
    "data_dicts = filtered_jan_df[[\"PULocationID\", \"DOLocationID\"]].to_dict(orient=\"records\")\n",
    "\n",
    "# Applying one-hot encoding using DictVectorizer\n",
    "dv = DictVectorizer(sparse=True)\n",
    "X_train = dv.fit_transform(data_dicts)\n",
    "\n",
    "# Checking the dimensionality of the matrix\n",
    "num_columns = X_train.shape[1]\n",
    "print(f\"Number of columns: {num_columns}\")\n"
   ]
  },
  {
   "cell_type": "code",
   "execution_count": 9,
   "id": "8b1c2262",
   "metadata": {},
   "outputs": [
    {
     "name": "stdout",
     "output_type": "stream",
     "text": [
      "RMSE on training data: 7.95\n"
     ]
    }
   ],
   "source": [
    "from sklearn.linear_model import LinearRegression\n",
    "from sklearn.metrics import mean_squared_error\n",
    "import numpy as np\n",
    "\n",
    "# Defining the target variable (duration)\n",
    "y_train = filtered_jan_df[\"duration\"].values\n",
    "\n",
    "# Training a linear regression model\n",
    "lr = LinearRegression()\n",
    "lr.fit(X_train, y_train)\n",
    "\n",
    "# Making predictions on the training set\n",
    "y_train_pred = lr.predict(X_train)\n",
    "\n",
    "# Calculating RMSE on training data\n",
    "rmse_train = np.sqrt(mean_squared_error(y_train, y_train_pred))\n",
    "print(f\"RMSE on training data: {rmse_train:.2f}\")\n"
   ]
  },
  {
   "cell_type": "code",
   "execution_count": null,
   "id": "08714597",
   "metadata": {},
   "outputs": [
    {
     "name": "stderr",
     "output_type": "stream",
     "text": [
      "/tmp/ipykernel_51870/3160765316.py:12: SettingWithCopyWarning: \n",
      "A value is trying to be set on a copy of a slice from a DataFrame.\n",
      "Try using .loc[row_indexer,col_indexer] = value instead\n",
      "\n",
      "See the caveats in the documentation: https://pandas.pydata.org/pandas-docs/stable/user_guide/indexing.html#returning-a-view-versus-a-copy\n",
      "  filtered_feb_df[\"PULocationID\"] = filtered_feb_df[\"PULocationID\"].astype(str)\n",
      "/tmp/ipykernel_51870/3160765316.py:13: SettingWithCopyWarning: \n",
      "A value is trying to be set on a copy of a slice from a DataFrame.\n",
      "Try using .loc[row_indexer,col_indexer] = value instead\n",
      "\n",
      "See the caveats in the documentation: https://pandas.pydata.org/pandas-docs/stable/user_guide/indexing.html#returning-a-view-versus-a-copy\n",
      "  filtered_feb_df[\"DOLocationID\"] = filtered_feb_df[\"DOLocationID\"].astype(str)\n"
     ]
    }
   ],
   "source": [
    "# Load the validation dataset (Feb 2023)\n",
    "feb_df = pd.read_parquet('https://d37ci6vzurychx.cloudfront.net/trip-data/yellow_tripdata_2024-02.parquet')\n",
    "feb_df.head()\n",
    "\n",
    "# Create duration column in minutes\n",
    "feb_df[\"duration\"] = (feb_df[\"tpep_dropoff_datetime\"] - feb_df[\"tpep_pickup_datetime\"]).dt.total_seconds() / 60\n",
    "\n",
    "# Remove outliers (duration between 1 and 60 minutes)\n",
    "filtered_feb_df = feb_df[(feb_df[\"duration\"] >= 1) & (feb_df[\"duration\"] <= 60)]\n",
    "\n",
    "# Convert pickup and dropoff IDs to string\n",
    "filtered_feb_df[\"PULocationID\"] = filtered_feb_df[\"PULocationID\"].astype(str)\n",
    "filtered_feb_df[\"DOLocationID\"] = filtered_feb_df[\"DOLocationID\"].astype(str)\n",
    "\n",
    "# Transform validation data using the trained DictVectorizer\n",
    "val_dicts = filtered_feb_df[[\"PULocationID\", \"DOLocationID\"]].to_dict(orient=\"records\")\n",
    "X_val = dv.transform(val_dicts)\n",
    "\n",
    "# Predicting on validation set\n",
    "y_val = filtered_feb_df[\"duration\"].values\n",
    "y_val_pred = lr.predict(X_val)\n",
    "\n",
    "# Calculating RMSE on validation set\n",
    "rmse_val = np.sqrt(mean_squared_error(y_val, y_val_pred))\n",
    "print(f\"RMSE on validation data: {rmse_val:.2f}\")\n"
   ]
  },
  {
   "cell_type": "code",
   "execution_count": null,
   "id": "733fdf94",
   "metadata": {},
   "outputs": [],
   "source": []
  },
  {
   "cell_type": "code",
   "execution_count": null,
   "id": "75cc095c",
   "metadata": {},
   "outputs": [],
   "source": []
  },
  {
   "cell_type": "code",
   "execution_count": null,
   "id": "8258d07f",
   "metadata": {},
   "outputs": [],
   "source": []
  }
 ],
 "metadata": {
  "kernelspec": {
   "display_name": "Python 3 (ipykernel)",
   "language": "python",
   "name": "python3"
  },
  "language_info": {
   "codemirror_mode": {
    "name": "ipython",
    "version": 3
   },
   "file_extension": ".py",
   "mimetype": "text/x-python",
   "name": "python",
   "nbconvert_exporter": "python",
   "pygments_lexer": "ipython3",
   "version": "3.9.12"
  }
 },
 "nbformat": 4,
 "nbformat_minor": 5
}
